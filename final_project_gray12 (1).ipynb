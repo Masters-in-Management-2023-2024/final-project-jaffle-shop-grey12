{
  "cells": [
    {
      "cell_type": "markdown",
      "metadata": {
        "id": "DBaFsWBCrR6k"
      },
      "source": [
        "# Jaffle Shop Data Analysis - Final Project\n",
        "\n",
        "## Instructions\n",
        "You have been hired as a data analyst for Jaffle Shop, a growing chain of gourmet toasted sandwich restaurants. The executive team needs insights to make strategic business decisions.\n",
        "\n",
        "Using the provided datasets and Python Polars, analyze the business performance and provide data-driven recommendations. You must use Polars for all data manipulation and analysis.\n",
        "\n",
        "## Available Data\n",
        "- `Customers.csv`: Customer information\n",
        "- `Orders.csv`: Order transactions with totals and timestamps\n",
        "- `Items.csv`: Individual items within each order\n",
        "- `Products.csv`: Product catalog with prices and descriptions\n",
        "- `Stores.csv`: Store locations and opening dates\n",
        "- `Supplies.csv`: Supply costs for each product\n",
        "\n",
        "**Time Limit: 90 minutes**"
      ]
    },
    {
      "cell_type": "markdown",
      "metadata": {
        "id": "oHj7VtZlrR6m"
      },
      "source": [
        "## Setup and Data Loading"
      ]
    },
    {
      "cell_type": "code",
      "execution_count": 1,
      "metadata": {
        "id": "JvxPyaVorR6n"
      },
      "outputs": [],
      "source": [
        "# Import necessary libraries\n",
        "import polars as pl\n",
        "from datetime import datetime, timedelta\n",
        "import matplotlib.pyplot as plt\n",
        "\n",
        "# Set up plotting style\n",
        "plt.style.use('seaborn-v0_8-darkgrid')"
      ]
    },
    {
      "cell_type": "code",
      "execution_count": 2,
      "metadata": {
        "colab": {
          "base_uri": "https://localhost:8080/",
          "height": 460
        },
        "id": "IGG4IuVZrR6n",
        "outputId": "5612018c-7df1-4ff9-c8c4-6c571563c9fb"
      },
      "outputs": [
        {
          "output_type": "error",
          "ename": "FileNotFoundError",
          "evalue": "No such file or directory (os error 2): /content/Customers.csv",
          "traceback": [
            "\u001b[0;31m---------------------------------------------------------------------------\u001b[0m",
            "\u001b[0;31mFileNotFoundError\u001b[0m                         Traceback (most recent call last)",
            "\u001b[0;32m/tmp/ipython-input-3315507230.py\u001b[0m in \u001b[0;36m<cell line: 0>\u001b[0;34m()\u001b[0m\n\u001b[1;32m      1\u001b[0m \u001b[0;31m# Load all datasets\u001b[0m\u001b[0;34m\u001b[0m\u001b[0;34m\u001b[0m\u001b[0m\n\u001b[1;32m      2\u001b[0m \u001b[0;31m# TODO: Update these paths to the actual location of your data files\u001b[0m\u001b[0;34m\u001b[0m\u001b[0;34m\u001b[0m\u001b[0m\n\u001b[0;32m----> 3\u001b[0;31m \u001b[0mcustomers\u001b[0m \u001b[0;34m=\u001b[0m \u001b[0mpl\u001b[0m\u001b[0;34m.\u001b[0m\u001b[0mread_csv\u001b[0m\u001b[0;34m(\u001b[0m\u001b[0;34m'/content/Customers.csv'\u001b[0m\u001b[0;34m)\u001b[0m\u001b[0;34m\u001b[0m\u001b[0;34m\u001b[0m\u001b[0m\n\u001b[0m\u001b[1;32m      4\u001b[0m \u001b[0morders\u001b[0m \u001b[0;34m=\u001b[0m \u001b[0mpl\u001b[0m\u001b[0;34m.\u001b[0m\u001b[0mread_csv\u001b[0m\u001b[0;34m(\u001b[0m\u001b[0;34m'/content/Orders.csv'\u001b[0m\u001b[0;34m)\u001b[0m\u001b[0;34m\u001b[0m\u001b[0;34m\u001b[0m\u001b[0m\n\u001b[1;32m      5\u001b[0m \u001b[0mitems\u001b[0m \u001b[0;34m=\u001b[0m \u001b[0mpl\u001b[0m\u001b[0;34m.\u001b[0m\u001b[0mread_csv\u001b[0m\u001b[0;34m(\u001b[0m\u001b[0;34m'/content/Items.csv'\u001b[0m\u001b[0;34m)\u001b[0m\u001b[0;34m\u001b[0m\u001b[0;34m\u001b[0m\u001b[0m\n",
            "\u001b[0;32m/usr/local/lib/python3.12/dist-packages/polars/_utils/deprecation.py\u001b[0m in \u001b[0;36mwrapper\u001b[0;34m(*args, **kwargs)\u001b[0m\n\u001b[1;32m    112\u001b[0m                 \u001b[0mold_name\u001b[0m\u001b[0;34m,\u001b[0m \u001b[0mnew_name\u001b[0m\u001b[0;34m,\u001b[0m \u001b[0mkwargs\u001b[0m\u001b[0;34m,\u001b[0m \u001b[0mfunction\u001b[0m\u001b[0;34m.\u001b[0m\u001b[0m__qualname__\u001b[0m\u001b[0;34m,\u001b[0m \u001b[0mversion\u001b[0m\u001b[0;34m\u001b[0m\u001b[0;34m\u001b[0m\u001b[0m\n\u001b[1;32m    113\u001b[0m             )\n\u001b[0;32m--> 114\u001b[0;31m             \u001b[0;32mreturn\u001b[0m \u001b[0mfunction\u001b[0m\u001b[0;34m(\u001b[0m\u001b[0;34m*\u001b[0m\u001b[0margs\u001b[0m\u001b[0;34m,\u001b[0m \u001b[0;34m**\u001b[0m\u001b[0mkwargs\u001b[0m\u001b[0;34m)\u001b[0m\u001b[0;34m\u001b[0m\u001b[0;34m\u001b[0m\u001b[0m\n\u001b[0m\u001b[1;32m    115\u001b[0m \u001b[0;34m\u001b[0m\u001b[0m\n\u001b[1;32m    116\u001b[0m         \u001b[0mwrapper\u001b[0m\u001b[0;34m.\u001b[0m\u001b[0m__signature__\u001b[0m \u001b[0;34m=\u001b[0m \u001b[0minspect\u001b[0m\u001b[0;34m.\u001b[0m\u001b[0msignature\u001b[0m\u001b[0;34m(\u001b[0m\u001b[0mfunction\u001b[0m\u001b[0;34m)\u001b[0m  \u001b[0;31m# type: ignore[attr-defined]\u001b[0m\u001b[0;34m\u001b[0m\u001b[0;34m\u001b[0m\u001b[0m\n",
            "\u001b[0;32m/usr/local/lib/python3.12/dist-packages/polars/_utils/deprecation.py\u001b[0m in \u001b[0;36mwrapper\u001b[0;34m(*args, **kwargs)\u001b[0m\n\u001b[1;32m    112\u001b[0m                 \u001b[0mold_name\u001b[0m\u001b[0;34m,\u001b[0m \u001b[0mnew_name\u001b[0m\u001b[0;34m,\u001b[0m \u001b[0mkwargs\u001b[0m\u001b[0;34m,\u001b[0m \u001b[0mfunction\u001b[0m\u001b[0;34m.\u001b[0m\u001b[0m__qualname__\u001b[0m\u001b[0;34m,\u001b[0m \u001b[0mversion\u001b[0m\u001b[0;34m\u001b[0m\u001b[0;34m\u001b[0m\u001b[0m\n\u001b[1;32m    113\u001b[0m             )\n\u001b[0;32m--> 114\u001b[0;31m             \u001b[0;32mreturn\u001b[0m \u001b[0mfunction\u001b[0m\u001b[0;34m(\u001b[0m\u001b[0;34m*\u001b[0m\u001b[0margs\u001b[0m\u001b[0;34m,\u001b[0m \u001b[0;34m**\u001b[0m\u001b[0mkwargs\u001b[0m\u001b[0;34m)\u001b[0m\u001b[0;34m\u001b[0m\u001b[0;34m\u001b[0m\u001b[0m\n\u001b[0m\u001b[1;32m    115\u001b[0m \u001b[0;34m\u001b[0m\u001b[0m\n\u001b[1;32m    116\u001b[0m         \u001b[0mwrapper\u001b[0m\u001b[0;34m.\u001b[0m\u001b[0m__signature__\u001b[0m \u001b[0;34m=\u001b[0m \u001b[0minspect\u001b[0m\u001b[0;34m.\u001b[0m\u001b[0msignature\u001b[0m\u001b[0;34m(\u001b[0m\u001b[0mfunction\u001b[0m\u001b[0;34m)\u001b[0m  \u001b[0;31m# type: ignore[attr-defined]\u001b[0m\u001b[0;34m\u001b[0m\u001b[0;34m\u001b[0m\u001b[0m\n",
            "\u001b[0;32m/usr/local/lib/python3.12/dist-packages/polars/_utils/deprecation.py\u001b[0m in \u001b[0;36mwrapper\u001b[0;34m(*args, **kwargs)\u001b[0m\n\u001b[1;32m    112\u001b[0m                 \u001b[0mold_name\u001b[0m\u001b[0;34m,\u001b[0m \u001b[0mnew_name\u001b[0m\u001b[0;34m,\u001b[0m \u001b[0mkwargs\u001b[0m\u001b[0;34m,\u001b[0m \u001b[0mfunction\u001b[0m\u001b[0;34m.\u001b[0m\u001b[0m__qualname__\u001b[0m\u001b[0;34m,\u001b[0m \u001b[0mversion\u001b[0m\u001b[0;34m\u001b[0m\u001b[0;34m\u001b[0m\u001b[0m\n\u001b[1;32m    113\u001b[0m             )\n\u001b[0;32m--> 114\u001b[0;31m             \u001b[0;32mreturn\u001b[0m \u001b[0mfunction\u001b[0m\u001b[0;34m(\u001b[0m\u001b[0;34m*\u001b[0m\u001b[0margs\u001b[0m\u001b[0;34m,\u001b[0m \u001b[0;34m**\u001b[0m\u001b[0mkwargs\u001b[0m\u001b[0;34m)\u001b[0m\u001b[0;34m\u001b[0m\u001b[0;34m\u001b[0m\u001b[0m\n\u001b[0m\u001b[1;32m    115\u001b[0m \u001b[0;34m\u001b[0m\u001b[0m\n\u001b[1;32m    116\u001b[0m         \u001b[0mwrapper\u001b[0m\u001b[0;34m.\u001b[0m\u001b[0m__signature__\u001b[0m \u001b[0;34m=\u001b[0m \u001b[0minspect\u001b[0m\u001b[0;34m.\u001b[0m\u001b[0msignature\u001b[0m\u001b[0;34m(\u001b[0m\u001b[0mfunction\u001b[0m\u001b[0;34m)\u001b[0m  \u001b[0;31m# type: ignore[attr-defined]\u001b[0m\u001b[0;34m\u001b[0m\u001b[0;34m\u001b[0m\u001b[0m\n",
            "\u001b[0;32m/usr/local/lib/python3.12/dist-packages/polars/io/csv/functions.py\u001b[0m in \u001b[0;36mread_csv\u001b[0;34m(source, has_header, columns, new_columns, separator, comment_prefix, quote_char, skip_rows, skip_lines, schema, schema_overrides, null_values, missing_utf8_is_empty_string, ignore_errors, try_parse_dates, n_threads, infer_schema, infer_schema_length, batch_size, n_rows, encoding, low_memory, rechunk, use_pyarrow, storage_options, skip_rows_after_header, row_index_name, row_index_offset, sample_size, eol_char, raise_if_empty, truncate_ragged_lines, decimal_comma, glob)\u001b[0m\n\u001b[1;32m    537\u001b[0m             \u001b[0mstorage_options\u001b[0m\u001b[0;34m=\u001b[0m\u001b[0mstorage_options\u001b[0m\u001b[0;34m,\u001b[0m\u001b[0;34m\u001b[0m\u001b[0;34m\u001b[0m\u001b[0m\n\u001b[1;32m    538\u001b[0m         ) as data:\n\u001b[0;32m--> 539\u001b[0;31m             df = _read_csv_impl(\n\u001b[0m\u001b[1;32m    540\u001b[0m                 \u001b[0mdata\u001b[0m\u001b[0;34m,\u001b[0m\u001b[0;34m\u001b[0m\u001b[0;34m\u001b[0m\u001b[0m\n\u001b[1;32m    541\u001b[0m                 \u001b[0mhas_header\u001b[0m\u001b[0;34m=\u001b[0m\u001b[0mhas_header\u001b[0m\u001b[0;34m,\u001b[0m\u001b[0;34m\u001b[0m\u001b[0;34m\u001b[0m\u001b[0m\n",
            "\u001b[0;32m/usr/local/lib/python3.12/dist-packages/polars/io/csv/functions.py\u001b[0m in \u001b[0;36m_read_csv_impl\u001b[0;34m(source, has_header, columns, separator, comment_prefix, quote_char, skip_rows, skip_lines, schema, schema_overrides, null_values, missing_utf8_is_empty_string, ignore_errors, try_parse_dates, n_threads, infer_schema_length, batch_size, n_rows, encoding, low_memory, rechunk, skip_rows_after_header, row_index_name, row_index_offset, sample_size, eol_char, raise_if_empty, truncate_ragged_lines, decimal_comma, glob)\u001b[0m\n\u001b[1;32m    685\u001b[0m     \u001b[0mprojection\u001b[0m\u001b[0;34m,\u001b[0m \u001b[0mcolumns\u001b[0m \u001b[0;34m=\u001b[0m \u001b[0mparse_columns_arg\u001b[0m\u001b[0;34m(\u001b[0m\u001b[0mcolumns\u001b[0m\u001b[0;34m)\u001b[0m\u001b[0;34m\u001b[0m\u001b[0;34m\u001b[0m\u001b[0m\n\u001b[1;32m    686\u001b[0m \u001b[0;34m\u001b[0m\u001b[0m\n\u001b[0;32m--> 687\u001b[0;31m     pydf = PyDataFrame.read_csv(\n\u001b[0m\u001b[1;32m    688\u001b[0m         \u001b[0msource\u001b[0m\u001b[0;34m,\u001b[0m\u001b[0;34m\u001b[0m\u001b[0;34m\u001b[0m\u001b[0m\n\u001b[1;32m    689\u001b[0m         \u001b[0minfer_schema_length\u001b[0m\u001b[0;34m,\u001b[0m\u001b[0;34m\u001b[0m\u001b[0;34m\u001b[0m\u001b[0m\n",
            "\u001b[0;31mFileNotFoundError\u001b[0m: No such file or directory (os error 2): /content/Customers.csv"
          ]
        }
      ],
      "source": [
        "# Load all datasets\n",
        "# TODO: Update these paths to the actual location of your data files\n",
        "customers = pl.read_csv('/content/Customers.csv')\n",
        "orders = pl.read_csv('/content/Orders.csv')\n",
        "items = pl.read_csv('/content/Items.csv')\n",
        "products = pl.read_csv('/content/Products.csv')\n",
        "stores = pl.read_csv('/content/Stores.csv')\n",
        "supplies = pl.read_csv('/content/Supplies.csv')\n",
        "\n",
        "# Display basic information about each dataset\n",
        "print(\"Dataset shapes:\")\n",
        "print(f\"Customers: {customers.shape}\")\n",
        "print(f\"Orders: {orders.shape}\")\n",
        "print(f\"Items: {items.shape}\")\n",
        "print(f\"Products: {products.shape}\")\n",
        "print(f\"Stores: {stores.shape}\")\n",
        "print(f\"Supplies: {supplies.shape}\")"
      ]
    },
    {
      "cell_type": "markdown",
      "metadata": {
        "id": "ZS9TwPIqrR6o"
      },
      "source": [
        "## Question 1: Revenue Performance Analysis\n",
        "\n",
        "The CFO wants to understand the company's financial performance across different dimensions. Analyze:\n",
        "- What is the total revenue generated by Jaffle Shop? (Store result in variable: `total_revenue`)\n",
        "- How does revenue vary by store location? (Store result in variable: `revenue_by_store`)\n",
        "- What are the monthly revenue trends? (Store result in variable: `monthly_revenue_trends`)\n",
        "- Which day of the week generates the most revenue? (Store result in variable: `revenue_by_day_of_week`)\n",
        "- Include at least one chart for one of these questions"
      ]
    },
    {
      "cell_type": "code",
      "execution_count": null,
      "metadata": {
        "colab": {
          "base_uri": "https://localhost:8080/"
        },
        "id": "NzpZN9iSrR6o",
        "outputId": "eb8ee9a7-bdce-4c5e-b5c3-6d85271e40ce"
      },
      "outputs": [
        {
          "output_type": "stream",
          "name": "stdout",
          "text": [
            "Jaffle Shop's total revenues are $66,038,193.00\n"
          ]
        }
      ],
      "source": [
        "# Q1.1: Calculate total revenue\n",
        "\n",
        "total_revenue = orders.select(pl.col('order_total')).sum()\n",
        "print(f\"Jaffle Shop's total revenues are ${total_revenue.item():,.2f}\")"
      ]
    },
    {
      "cell_type": "code",
      "execution_count": null,
      "metadata": {
        "colab": {
          "base_uri": "https://localhost:8080/"
        },
        "id": "wzgUn7GTrR6o",
        "outputId": "a0a3932e-2daa-49d2-9123-bd18b4c170c0"
      },
      "outputs": [
        {
          "output_type": "stream",
          "name": "stdout",
          "text": [
            "Revenue by store location:\n",
            "shape: (2, 2)\n",
            "┌──────────────┬───────────────┐\n",
            "│ name         ┆ total_revenue │\n",
            "│ ---          ┆ ---           │\n",
            "│ str          ┆ i64           │\n",
            "╞══════════════╪═══════════════╡\n",
            "│ Philadelphia ┆ 43215565      │\n",
            "│ Brooklyn     ┆ 22822628      │\n",
            "└──────────────┴───────────────┘\n",
            "It seems that, based on total revenue, Jaffle Shop's store in Philadelphia is performing the best.\n"
          ]
        }
      ],
      "source": [
        "# Q1.2: Revenue by store location\n",
        "\n",
        "revenue_by_store = (\n",
        "    orders.join(stores, left_on='store_id', right_on='id')\n",
        "    .group_by('name')\n",
        "    .agg(pl.col('order_total').sum().alias('total_revenue'))\n",
        "    .sort('total_revenue', descending=True)\n",
        ")\n",
        "\n",
        "print(\"Revenue by store location:\")\n",
        "print(revenue_by_store)\n",
        "\n",
        "print(\"It seems that, based on total revenue, Jaffle Shop's store in Philadelphia is performing the best.\")"
      ]
    },
    {
      "cell_type": "code",
      "execution_count": null,
      "metadata": {
        "id": "bhHfDrK2rR6o",
        "colab": {
          "base_uri": "https://localhost:8080/",
          "height": 772
        },
        "outputId": "3267d0e8-80c6-41e7-c60e-d1005123c6f4"
      },
      "outputs": [
        {
          "output_type": "stream",
          "name": "stdout",
          "text": [
            "Monthly revenue trends:\n",
            "shape: (12, 2)\n",
            "┌────────────┬───────────────┐\n",
            "│ year_month ┆ total_revenue │\n",
            "│ ---        ┆ ---           │\n",
            "│ str        ┆ i64           │\n",
            "╞════════════╪═══════════════╡\n",
            "│ 2016-09    ┆ 1644922       │\n",
            "│ 2016-10    ┆ 1956651       │\n",
            "│ 2016-11    ┆ 2552662       │\n",
            "│ 2016-12    ┆ 3307337       │\n",
            "│ 2017-01    ┆ 3821291       │\n",
            "│ …          ┆ …             │\n",
            "│ 2017-04    ┆ 7392014       │\n",
            "│ 2017-05    ┆ 8469909       │\n",
            "│ 2017-06    ┆ 8617148       │\n",
            "│ 2017-07    ┆ 8585320       │\n",
            "│ 2017-08    ┆ 9332296       │\n",
            "└────────────┴───────────────┘\n"
          ]
        },
        {
          "output_type": "display_data",
          "data": {
            "text/plain": [
              "<Figure size 1200x600 with 1 Axes>"
            ],
            "image/png": "[encoded data removed]"
          },
          "metadata": {}
        }
      ],
      "source": [
        "# Q1.3: Monthly revenue trends\n",
        "\n",
        "import matplotlib.pyplot as plt\n",
        "\n",
        "monthly_revenue_trends = (\n",
        "    orders\n",
        "    .with_columns(\n",
        "        pl.col(\"ordered_at\").str.strptime(pl.Datetime, \"%Y-%m-%dT%H:%M:%S\")\n",
        "    )\n",
        "    .with_columns(\n",
        "        pl.col(\"ordered_at\").dt.strftime(\"%Y-%m\").alias(\"year_month\")\n",
        "    )\n",
        "    .group_by(\"year_month\")\n",
        "    .agg(pl.col(\"order_total\").sum().alias(\"total_revenue\"))\n",
        "    .sort(\"year_month\")\n",
        ")\n",
        "\n",
        "print(\"Monthly revenue trends:\")\n",
        "print(monthly_revenue_trends)\n",
        "\n",
        "year_month = monthly_revenue_trends[\"year_month\"].to_list()\n",
        "total_revenue = monthly_revenue_trends[\"total_revenue\"].to_list()\n",
        "\n",
        "plt.figure(figsize=(12, 6))\n",
        "plt.plot(year_month, total_revenue, marker=\"o\")\n",
        "plt.title(\"Monthly Revenue Trends\")\n",
        "plt.xlabel(\"Year-Month\")\n",
        "plt.ylabel(\"Total Revenue\")\n",
        "plt.grid(True)\n",
        "plt.tight_layout()\n",
        "plt.show()\n"
      ]
    },
    {
      "cell_type": "code",
      "execution_count": null,
      "metadata": {
        "id": "nvdDS1jurR6p",
        "colab": {
          "base_uri": "https://localhost:8080/"
        },
        "outputId": "2bc9f5f3-0ed5-4777-b0c3-462e241786ed"
      },
      "outputs": [
        {
          "output_type": "stream",
          "name": "stdout",
          "text": [
            "Revenue by day of the week:\n",
            "shape: (7, 2)\n",
            "┌─────────────┬───────────────┐\n",
            "│ day_of_week ┆ total_revenue │\n",
            "│ ---         ┆ ---           │\n",
            "│ str         ┆ i64           │\n",
            "╞═════════════╪═══════════════╡\n",
            "│ Wednesday   ┆ 10834569      │\n",
            "│ Thursday    ┆ 10829195      │\n",
            "│ Tuesday     ┆ 10814455      │\n",
            "│ Friday      ┆ 10758715      │\n",
            "│ Monday      ┆ 10611971      │\n",
            "│ Sunday      ┆ 6207799       │\n",
            "│ Saturday    ┆ 5981489       │\n",
            "└─────────────┴───────────────┘\n",
            "Therefore, based on the data from the orders table, Wednesdays generate the most revenue.\n"
          ]
        }
      ],
      "source": [
        "# Q1.4: Revenue by day of week\n",
        "\n",
        "revenue_by_day_of_week = (\n",
        "    orders\n",
        "    .with_columns(\n",
        "        pl.col(\"ordered_at\").str.strptime(pl.Datetime, \"%Y-%m-%dT%H:%M:%S\")\n",
        "    )\n",
        "    .with_columns(\n",
        "        pl.col(\"ordered_at\").dt.strftime(\"%A\").alias(\"day_of_week\")\n",
        "    )\n",
        "    .group_by(\"day_of_week\")\n",
        "    .agg(pl.col(\"order_total\").sum().alias(\"total_revenue\"))\n",
        "    .sort(\"total_revenue\", descending=True)\n",
        ")\n",
        "\n",
        "print(\"Revenue by day of the week:\")\n",
        "print(revenue_by_day_of_week)\n",
        "\n",
        "print(\"Therefore, based on the data from the orders table, Wednesdays generate the most revenue.\")"
      ]
    },
    {
      "cell_type": "markdown",
      "metadata": {
        "id": "baY6JwDFrR6p"
      },
      "source": [
        "## Question 2: Product Performance\n",
        "\n",
        "The Product Manager needs insights about the menu items:\n",
        "- What is the revenue contribution of each product category (jaffles vs beverages)? (Store result in variable: `revenue_by_category`)\n",
        "- What is the average price of products by type (jaffles vs beverages)?\n",
        "- Include at least one chart to answer one of the above questions."
      ]
    },
    {
      "cell_type": "code",
      "execution_count": null,
      "metadata": {
        "id": "jQNFOI53rR6p",
        "colab": {
          "base_uri": "https://localhost:8080/"
        },
        "outputId": "2a754db8-a95a-4bf7-ec1c-1bfb9529f141"
      },
      "outputs": [
        {
          "output_type": "stream",
          "name": "stdout",
          "text": [
            "Revenue by product category:\n",
            "shape: (2, 3)\n",
            "┌──────────┬───────────────┬──────────────────────┐\n",
            "│ type     ┆ total_revenue ┆ revenue_contribution │\n",
            "│ ---      ┆ ---           ┆ ---                  │\n",
            "│ str      ┆ i64           ┆ f64                  │\n",
            "╞══════════╪═══════════════╪══════════════════════╡\n",
            "│ beverage ┆ 39836200      ┆ 0.635173             │\n",
            "│ jaffle   ┆ 22880900      ┆ 0.364827             │\n",
            "└──────────┴───────────────┴──────────────────────┘\n"
          ]
        }
      ],
      "source": [
        "# Q2.1: Revenue by product category\n",
        "# Your code here\n",
        "revenue_by_category = (\n",
        "    items\n",
        "    .join(products, left_on=\"sku\", right_on=\"sku\")\n",
        "    .join(orders, left_on=\"order_id\", right_on=\"id\")\n",
        "    .with_columns(\n",
        "        (pl.col(\"price\")).alias(\"item_price\")\n",
        "    )\n",
        "    .group_by(\"type\")\n",
        "    .agg((pl.col(\"item_price\").sum()).alias(\"total_revenue\"))\n",
        "    .with_columns(\n",
        "        (pl.col(\"total_revenue\") / pl.col(\"total_revenue\").sum()).alias(\"revenue_contribution\")\n",
        "    )\n",
        "    .sort(\"total_revenue\", descending=True)\n",
        ")\n",
        "\n",
        "print(\"Revenue by product category:\")\n",
        "print(revenue_by_category)\n"
      ]
    },
    {
      "cell_type": "code",
      "execution_count": null,
      "metadata": {
        "id": "yEN2pPsCrR6q",
        "colab": {
          "base_uri": "https://localhost:8080/",
          "height": 636
        },
        "outputId": "c9fef843-9576-4e07-fc8f-c151884538b5"
      },
      "outputs": [
        {
          "output_type": "stream",
          "name": "stdout",
          "text": [
            "shape: (2, 2)\n",
            "┌──────────┬───────────┐\n",
            "│ type     ┆ avg_price │\n",
            "│ ---      ┆ ---       │\n",
            "│ str      ┆ f64       │\n",
            "╞══════════╪═══════════╡\n",
            "│ jaffle   ┆ 1200.0    │\n",
            "│ beverage ┆ 560.0     │\n",
            "└──────────┴───────────┘\n"
          ]
        },
        {
          "output_type": "display_data",
          "data": {
            "text/plain": [
              "<Figure size 800x500 with 1 Axes>"
            ],
            "image/png": "[encoded data removed]"
          },
          "metadata": {}
        }
      ],
      "source": [
        "# Q2.2 Average price of products by type\n",
        "\n",
        "avg_price_by_type = (\n",
        "    products\n",
        "    .group_by(\"type\")\n",
        "    .agg(pl.col(\"price\").mean().alias(\"avg_price\"))\n",
        "    .sort(\"avg_price\", descending=True)\n",
        ")\n",
        "\n",
        "print(avg_price_by_type)\n",
        "\n",
        "plt.figure(figsize=(8,5))\n",
        "plt.bar(avg_price_by_type[\"type\"], avg_price_by_type[\"avg_price\"])\n",
        "plt.title(\"Average Product Price by Type\")\n",
        "plt.xlabel(\"Product Category\")\n",
        "plt.ylabel(\"Average Price\")\n",
        "plt.show()"
      ]
    },
    {
      "cell_type": "markdown",
      "metadata": {
        "id": "mi_QVh82rR6q"
      },
      "source": [
        "## Question 3: Store Expansion Strategy\n",
        "\n",
        "The Operations Director is planning expansion strategies:\n",
        "- Which stores have the highest revenue per day since opening? (Store result in variable: `revenue_per_day_by_store`)\n",
        "- What is the relationship between local tax rates and store performance? (Store result in variable: `tax_rate_performance`)\n",
        "- Include at least one chart to answer one of the above questions."
      ]
    },
    {
      "cell_type": "code",
      "execution_count": null,
      "metadata": {
        "id": "5uwW_SiUrR6q",
        "colab": {
          "base_uri": "https://localhost:8080/"
        },
        "outputId": "3234b1ce-6676-4ff6-ebce-95be930c3d5f"
      },
      "outputs": [
        {
          "output_type": "stream",
          "name": "stdout",
          "text": [
            "Revenue per Day since Opening by Store:\n",
            "shape: (2, 5)\n",
            "┌────────────────────────────────┬───────────────┬────────────────┬─────────────────┬──────────────┐\n",
            "│ store_id                       ┆ total_revenue ┆ operating_days ┆ revenue_per_day ┆ name         │\n",
            "│ ---                            ┆ ---           ┆ ---            ┆ ---             ┆ ---          │\n",
            "│ str                            ┆ i64           ┆ i64            ┆ f64             ┆ str          │\n",
            "╞════════════════════════════════╪═══════════════╪════════════════╪═════════════════╪══════════════╡\n",
            "│ a2a24e87-dec8-4f5d-9c9e-0e9849 ┆ 22822628      ┆ 173            ┆ 131922.705202   ┆ Brooklyn     │\n",
            "│ …                              ┆               ┆                ┆                 ┆              │\n",
            "│ a9128331-08d7-41a2-b615-21283e ┆ 43215565      ┆ 365            ┆ 118398.808219   ┆ Philadelphia │\n",
            "│ …                              ┆               ┆                ┆                 ┆              │\n",
            "└────────────────────────────────┴───────────────┴────────────────┴─────────────────┴──────────────┘\n"
          ]
        }
      ],
      "source": [
        " Q3.1: Revenue per day since opening by store\n",
        "\n",
        "orders_datetime = orders.with_columns(\n",
        "    pl.col(\"ordered_at\").str.strptime(pl.Datetime, \"%Y-%m-%dT%H:%M:%S\").alias(\"ordered_at_datetime\")\n",
        ")\n",
        "\n",
        "stores_datetime = stores.with_columns(\n",
        "    pl.col(\"opened_at\").str.strptime(pl.Datetime, \"%Y-%m-%dT%H:%M:%S\").alias(\"opened_at_datetime\")\n",
        ")\n",
        "\n",
        "orders_stores = orders_datetime.join(stores_datetime, left_on=\"store_id\", right_on=\"id\")\n",
        "\n",
        "store_operating_days = (\n",
        "    orders_stores\n",
        "    .group_by(\"store_id\")\n",
        "    .agg([\n",
        "        pl.col(\"ordered_at_datetime\").max().alias(\"last_order_date\"),\n",
        "        pl.first(\"opened_at_datetime\").alias(\"opened_at_datetime\")\n",
        "    ])\n",
        "    .with_columns(\n",
        "        ((pl.col(\"last_order_date\") - pl.col(\"opened_at_datetime\")).dt.total_days() + 1).alias(\"operating_days\")\n",
        "    )\n",
        ")\n",
        "\n",
        "revenue_by_store_total = (\n",
        "    orders\n",
        "    .group_by(\"store_id\")\n",
        "    .agg(pl.sum(\"order_total\").alias(\"total_revenue\"))\n",
        ")\n",
        "\n",
        "revenue_per_day_by_store = (\n",
        "    revenue_by_store_total\n",
        "    .join(store_operating_days.select([\"store_id\", \"operating_days\"]), on=\"store_id\")\n",
        "    .with_columns(\n",
        "        (pl.col(\"total_revenue\") / pl.col(\"operating_days\")).alias(\"revenue_per_day\")\n",
        "    )\n",
        "    .join(stores.select([\"id\", \"name\"]), left_on=\"store_id\", right_on=\"id\")\n",
        "    .sort(\"revenue_per_day\", descending=True)\n",
        ")\n",
        "\n",
        "print(\"Revenue per Day since Opening by Store:\")\n",
        "print(revenue_per_day_by_store)\n"
      ]
    },
    {
      "cell_type": "code",
      "execution_count": null,
      "metadata": {
        "id": "kD8NuYqxrR6q",
        "colab": {
          "base_uri": "https://localhost:8080/",
          "height": 639
        },
        "outputId": "6aee90c4-bdd3-4c3c-dd82-448ee3ae969f"
      },
      "outputs": [
        {
          "output_type": "stream",
          "name": "stdout",
          "text": [
            "Tax Rate vs Performance:\n",
            "shape: (2, 4)\n",
            "┌─────────────────────────────────┬───────────────┬──────────────┬──────────┐\n",
            "│ store_id                        ┆ total_revenue ┆ name         ┆ tax_rate │\n",
            "│ ---                             ┆ ---           ┆ ---          ┆ ---      │\n",
            "│ str                             ┆ i64           ┆ str          ┆ f64      │\n",
            "╞═════════════════════════════════╪═══════════════╪══════════════╪══════════╡\n",
            "│ a9128331-08d7-41a2-b615-21283e… ┆ 43215565      ┆ Philadelphia ┆ 0.06     │\n",
            "│ a2a24e87-dec8-4f5d-9c9e-0e9849… ┆ 22822628      ┆ Brooklyn     ┆ 0.04     │\n",
            "└─────────────────────────────────┴───────────────┴──────────────┴──────────┘\n"
          ]
        },
        {
          "output_type": "display_data",
          "data": {
            "text/plain": [
              "<Figure size 640x480 with 1 Axes>"
            ],
            "image/png": "[encoded data removed]"
          },
          "metadata": {}
        }
      ],
      "source": [
        "# Q3.2: Tax rates vs store performance\n",
        "\n",
        "tax_rate_performance = (\n",
        "    orders\n",
        "    .group_by(\"store_id\")\n",
        "    .agg(pl.col(\"order_total\").sum().alias(\"total_revenue\"))\n",
        "    .join(stores_datetime.select([\"id\", \"name\", \"tax_rate\"]), left_on=\"store_id\", right_on=\"id\")\n",
        ")\n",
        "\n",
        "print(\"Tax Rate vs Performance:\")\n",
        "print(tax_rate_performance)\n",
        "\n",
        "tax_rates = tax_rate_performance[\"tax_rate\"].to_list()\n",
        "revenues  = tax_rate_performance[\"total_revenue\"].to_list()\n",
        "names     = tax_rate_performance[\"name\"].to_list()\n",
        "\n",
        "import matplotlib.pyplot as plt\n",
        "\n",
        "plt.scatter(tax_rates, revenues)\n",
        "plt.xlabel(\"Local Tax Rate\")\n",
        "plt.ylabel(\"Total Revenue\")\n",
        "plt.title(\"Relationship Between Tax Rates and Store Performance\")\n",
        "\n",
        "for x, y, label in zip(tax_rates, revenues, names):\n",
        "    plt.annotate(label, (x, y), xytext=(3, 3), textcoords=\"offset points\", fontsize=8)\n",
        "\n",
        "plt.show()\n",
        "\n",
        "\n"
      ]
    },
    {
      "cell_type": "markdown",
      "metadata": {
        "id": "4q3Y_Qx_rR6q"
      },
      "source": [
        "## Question 4: Customer Behavior Analysis\n",
        "\n",
        "The Marketing Manager wants to understand customer patterns:\n",
        "- What is the distribution of order values? (Store result in variable: `order_value_distribution`)\n",
        "- How many customers are repeat customers? (Store result in variable: `repeat_customer_analysis`)\n",
        "- Which customers contribute the most to revenue? (Store result in variable: `top_revenue_customers`)"
      ]
    },
    {
      "cell_type": "code",
      "execution_count": null,
      "metadata": {
        "id": "BJhILoXqrR6q",
        "colab": {
          "base_uri": "https://localhost:8080/"
        },
        "outputId": "ea8bf1c3-8d2b-443f-d2b2-623d7d3d54c1"
      },
      "outputs": [
        {
          "output_type": "stream",
          "name": "stdout",
          "text": [
            "Order Value Distribution:\n",
            "shape: (9, 2)\n",
            "┌────────────┬─────────────┐\n",
            "│ statistic  ┆ order_total │\n",
            "│ ---        ┆ ---         │\n",
            "│ str        ┆ f64         │\n",
            "╞════════════╪═════════════╡\n",
            "│ count      ┆ 63148.0     │\n",
            "│ null_count ┆ 0.0         │\n",
            "│ mean       ┆ 1045.76856  │\n",
            "│ std        ┆ 1025.930713 │\n",
            "│ min        ┆ 0.0         │\n",
            "│ 25%        ┆ 530.0       │\n",
            "│ 50%        ┆ 636.0       │\n",
            "│ 75%        ┆ 1165.0      │\n",
            "│ max        ┆ 10281.0     │\n",
            "└────────────┴─────────────┘\n"
          ]
        }
      ],
      "source": [
        "# Q4.1: Distribution of order values\n",
        "\n",
        "order_value_distribution = orders.select(pl.col('order_total')).describe()\n",
        "\n",
        "print(\"Order Value Distribution:\")\n",
        "print(order_value_distribution)"
      ]
    },
    {
      "cell_type": "code",
      "execution_count": null,
      "metadata": {
        "id": "VOADhJHKrR6r",
        "colab": {
          "base_uri": "https://localhost:8080/"
        },
        "outputId": "15269900-6066-4027-967a-481f860e6558"
      },
      "outputs": [
        {
          "output_type": "stream",
          "name": "stdout",
          "text": [
            "Repeat Customer Analysis:\n",
            "shape: (1, 3)\n",
            "┌─────────────────┬──────────────────┬─────────────────────────────┐\n",
            "│ Total_Customers ┆ Repeat_Customers ┆ Percentage_Repeat_Customers │\n",
            "│ ---             ┆ ---              ┆ ---                         │\n",
            "│ i64             ┆ i64              ┆ f64                         │\n",
            "╞═════════════════╪══════════════════╪═════════════════════════════╡\n",
            "│ 930             ┆ 920              ┆ 98.924731                   │\n",
            "└─────────────────┴──────────────────┴─────────────────────────────┘\n"
          ]
        }
      ],
      "source": [
        "# Q4.2: Repeat customers analysis\n",
        "\n",
        "customer_order_counts = (\n",
        "    orders\n",
        "    .group_by(\"customer\")\n",
        "    .agg(pl.len().alias(\"order_count\"))\n",
        ")\n",
        "\n",
        "repeat_customers = customer_order_counts.filter(pl.col(\"order_count\") > 1)\n",
        "\n",
        "num_repeat_customers = repeat_customers.height\n",
        "num_total_customers = orders.select(pl.col(\"customer\")).n_unique()\n",
        "percentage_repeat_customers = (\n",
        "    (num_repeat_customers / num_total_customers) * 100 if num_total_customers > 0 else 0\n",
        ")\n",
        "\n",
        "repeat_customer_analysis = pl.DataFrame({\n",
        "    \"Total_Customers\": [num_total_customers],\n",
        "    \"Repeat_Customers\": [num_repeat_customers],\n",
        "    \"Percentage_Repeat_Customers\": [percentage_repeat_customers]\n",
        "})\n",
        "\n",
        "print(\"Repeat Customer Analysis:\")\n",
        "print(repeat_customer_analysis)"
      ]
    },
    {
      "cell_type": "code",
      "execution_count": null,
      "metadata": {
        "id": "t_D4KUM3rR6r",
        "colab": {
          "base_uri": "https://localhost:8080/"
        },
        "outputId": "beaa2693-6b21-4c97-bfc7-64604879aacd"
      },
      "outputs": [
        {
          "output_type": "stream",
          "name": "stdout",
          "text": [
            "Top Revenue Customers:\n",
            "shape: (10, 3)\n",
            "┌─────────────────────────────────┬───────────────┬──────────────────────┐\n",
            "│ customer                        ┆ total_revenue ┆ name                 │\n",
            "│ ---                             ┆ ---           ┆ ---                  │\n",
            "│ str                             ┆ i64           ┆ str                  │\n",
            "╞═════════════════════════════════╪═══════════════╪══════════════════════╡\n",
            "│ ea3ada4c-8ffa-4e73-a51f-27711f… ┆ 262647        ┆ David Leonard        │\n",
            "│ 4fb3b92c-29cc-410f-a898-9784c4… ┆ 259037        ┆ Jesse Moore          │\n",
            "│ 99facd33-7b11-4955-aa0d-ccd118… ┆ 258515        ┆ Diane Davis          │\n",
            "│ 8bbf796d-0862-41c6-b533-38d6c2… ┆ 252703        ┆ Holly Johnson        │\n",
            "│ bc94ad77-6703-48d9-85d9-7908e7… ┆ 249821        ┆ Gregory Hayes        │\n",
            "│ 3ddc958e-73f5-4fe9-804e-d63c8b… ┆ 247510        ┆ Julie Robinson       │\n",
            "│ 0b92fd92-9200-47fe-9b57-9ada88… ┆ 246325        ┆ Christopher Robinson │\n",
            "│ a54f0762-0ac2-4821-bb45-835fd4… ┆ 244102        ┆ Douglas Burgess      │\n",
            "│ 666caf4d-840e-496a-8dd9-6363aa… ┆ 239641        ┆ Jacob Brown          │\n",
            "│ 416b65bf-5e91-4b77-a67c-4726f3… ┆ 237098        ┆ Jenny Harrell        │\n",
            "└─────────────────────────────────┴───────────────┴──────────────────────┘\n"
          ]
        }
      ],
      "source": [
        "# Q4.3: Top revenue contributors\n",
        "\n",
        "top_revenue_customers = (\n",
        "    orders\n",
        "    .group_by(\"customer\")\n",
        "    .agg(pl.sum(\"order_total\").alias(\"total_revenue\"))\n",
        "    .join(customers.select([\"id\", \"name\"]), left_on=\"customer\", right_on=\"id\")\n",
        "    .sort(\"total_revenue\", descending=True)\n",
        ")\n",
        "\n",
        "print(\"Top Revenue Customers:\")\n",
        "print(top_revenue_customers.head(10))"
      ]
    },
    {
      "cell_type": "markdown",
      "metadata": {
        "id": "PZplRrTArR6r"
      },
      "source": [
        "## Question 5: Profitability Deep Dive\n",
        "\n",
        "The CEO needs a comprehensive profitability analysis:\n",
        "- Calculate the gross margin for each product (consider supply costs) (Store result in variable: `product_margins`)\n",
        "- Which products have the highest profit margins? (Store result in variable: `highest_margin_products`)\n",
        "- What is the relationship between order size and profitability? (Store result in variable: `order_size_profitability`)\n",
        "- How does profitability vary across different stores? (Store result in variable: `store_profitability`)"
      ]
    },
    {
      "cell_type": "code",
      "execution_count": null,
      "metadata": {
        "id": "1Y4O_ZhirR6r",
        "colab": {
          "base_uri": "https://localhost:8080/"
        },
        "outputId": "62bf18e5-a2c7-4d1c-c6fe-7925ec2fc594"
      },
      "outputs": [
        {
          "output_type": "stream",
          "name": "stdout",
          "text": [
            "Product Margins:\n",
            "shape: (10, 6)\n",
            "┌─────────┬─────────────────────────┬───────────────┬────────────┬──────────────┬──────────────────┐\n",
            "│ sku     ┆ name                    ┆ total_revenue ┆ total_cost ┆ total_profit ┆ gross_margin_pct │\n",
            "│ ---     ┆ ---                     ┆ ---           ┆ ---        ┆ ---          ┆ ---              │\n",
            "│ str     ┆ str                     ┆ i64           ┆ i64        ┆ i64          ┆ f64              │\n",
            "╞═════════╪═════════════════════════╪═══════════════╪════════════╪══════════════╪══════════════════╡\n",
            "│ JAF-001 ┆ nutellaphone who dis?   ┆ 29337000      ┆ 461010     ┆ 28875990     ┆ 98.428571        │\n",
            "│ JAF-005 ┆ mel-bun                 ┆ 36710400      ┆ 913936     ┆ 35796464     ┆ 97.510417        │\n",
            "│ JAF-004 ┆ flame impala            ┆ 47174400      ┆ 1284192    ┆ 45890208     ┆ 97.277778        │\n",
            "│ BEV-001 ┆ tangaroo                ┆ 43113000      ┆ 1178422    ┆ 41934578     ┆ 97.266667        │\n",
            "│ BEV-004 ┆ for richer or pourover  ┆ 39807600      ┆ 1165794    ┆ 38641806     ┆ 97.071429        │\n",
            "│ BEV-005 ┆ adele-ade               ┆ 28114000      ┆ 885591     ┆ 27228409     ┆ 96.85            │\n",
            "│ JAF-002 ┆ doctor stew             ┆ 29575700      ┆ 964091     ┆ 28611609     ┆ 96.74026         │\n",
            "│ JAF-003 ┆ the krautback           ┆ 41709600      ┆ 1413492    ┆ 40296108     ┆ 96.611111        │\n",
            "│ BEV-003 ┆ vanilla ice             ┆ 42297000      ┆ 2171246    ┆ 40125754     ┆ 94.866667        │\n",
            "│ BEV-002 ┆ chai and mighty         ┆ 43077000      ┆ 2512825    ┆ 40564175     ┆ 94.166667        │\n",
            "└─────────┴─────────────────────────┴───────────────┴────────────┴──────────────┴──────────────────┘\n"
          ]
        }
      ],
      "source": [
        "# Q5.1: Calculate gross margin per product\n",
        "\n",
        "product_sales = (\n",
        "    items\n",
        "    .join(products, left_on=\"sku\", right_on=\"sku\")\n",
        "    .join(supplies, left_on=\"sku\", right_on=\"sku\")\n",
        "    .with_columns([\n",
        "        pl.col(\"price\").alias(\"revenue_per_unit\"),\n",
        "        pl.col(\"cost\").alias(\"cost_per_unit\")\n",
        "    ])\n",
        "    .with_columns(\n",
        "        (pl.col(\"revenue_per_unit\") - pl.col(\"cost_per_unit\")).alias(\"profit_per_unit\")\n",
        "    )\n",
        ")\n",
        "\n",
        "product_margins = (\n",
        "    product_sales\n",
        "    .group_by([\"sku\", \"name\"])\n",
        "    .agg([\n",
        "        pl.sum(\"revenue_per_unit\").alias(\"total_revenue\"),\n",
        "        pl.sum(\"cost_per_unit\").alias(\"total_cost\"),\n",
        "        pl.sum(\"profit_per_unit\").alias(\"total_profit\")\n",
        "    ])\n",
        "    .with_columns(\n",
        "        ((pl.col(\"total_profit\") / pl.col(\"total_revenue\")) * 100).alias(\"gross_margin_pct\")\n",
        "    )\n",
        "    .sort(\"gross_margin_pct\", descending=True)\n",
        ")\n",
        "\n",
        "print(\"Product Margins:\")\n",
        "print(product_margins)\n",
        "\n"
      ]
    },
    {
      "cell_type": "code",
      "execution_count": null,
      "metadata": {
        "id": "LI2Q-suerR6r",
        "colab": {
          "base_uri": "https://localhost:8080/"
        },
        "outputId": "626f14b5-1ba8-4f98-f141-bbff120d32c6"
      },
      "outputs": [
        {
          "output_type": "stream",
          "name": "stdout",
          "text": [
            "Highest Margin Products:\n",
            "shape: (5, 6)\n",
            "┌─────────┬─────────────────────────┬───────────────┬────────────┬──────────────┬──────────────────┐\n",
            "│ sku     ┆ name                    ┆ total_revenue ┆ total_cost ┆ total_profit ┆ gross_margin_pct │\n",
            "│ ---     ┆ ---                     ┆ ---           ┆ ---        ┆ ---          ┆ ---              │\n",
            "│ str     ┆ str                     ┆ i64           ┆ i64        ┆ i64          ┆ f64              │\n",
            "╞═════════╪═════════════════════════╪═══════════════╪════════════╪══════════════╪══════════════════╡\n",
            "│ JAF-001 ┆ nutellaphone who dis?   ┆ 29337000      ┆ 461010     ┆ 28875990     ┆ 98.428571        │\n",
            "│ JAF-005 ┆ mel-bun                 ┆ 36710400      ┆ 913936     ┆ 35796464     ┆ 97.510417        │\n",
            "│ JAF-004 ┆ flame impala            ┆ 47174400      ┆ 1284192    ┆ 45890208     ┆ 97.277778        │\n",
            "│ BEV-001 ┆ tangaroo                ┆ 43113000      ┆ 1178422    ┆ 41934578     ┆ 97.266667        │\n",
            "│ BEV-004 ┆ for richer or pourover  ┆ 39807600      ┆ 1165794    ┆ 38641806     ┆ 97.071429        │\n",
            "└─────────┴─────────────────────────┴───────────────┴────────────┴──────────────┴──────────────────┘\n"
          ]
        }
      ],
      "source": [
        "# Q5.2: Products with highest profit margins\n",
        "\n",
        "highest_margin_products = product_margins.sort(\"gross_margin_pct\", descending=True).head(5)\n",
        "\n",
        "print(\"Highest Margin Products:\")\n",
        "print(highest_margin_products)\n"
      ]
    },
    {
      "cell_type": "code",
      "execution_count": null,
      "metadata": {
        "id": "0yGwRMISrR6r",
        "colab": {
          "base_uri": "https://localhost:8080/"
        },
        "outputId": "30a2a83f-f24b-4a42-faa3-3f41a4103fc8"
      },
      "outputs": [
        {
          "output_type": "stream",
          "name": "stdout",
          "text": [
            "Order Size vs Profitability:\n",
            "shape: (62_642, 3)\n",
            "┌─────────────────────────────────┬────────────┬──────────────┐\n",
            "│ order_id                        ┆ order_size ┆ total_profit │\n",
            "│ ---                             ┆ ---        ┆ ---          │\n",
            "│ str                             ┆ u32        ┆ i64          │\n",
            "╞═════════════════════════════════╪════════════╪══════════════╡\n",
            "│ 2c4b4ca5-5e05-4ff3-aa62-20ddce… ┆ 4          ┆ 2718         │\n",
            "│ ea4cceb4-cb37-4560-9815-1103e9… ┆ 5          ┆ 2918         │\n",
            "│ 06d1bca7-93f9-4e84-a202-82686d… ┆ 4          ┆ 2718         │\n",
            "│ c806944e-2400-4b33-af93-cdf22a… ┆ 4          ┆ 2718         │\n",
            "│ 6e77e422-7172-4318-831b-a51f94… ┆ 4          ┆ 2718         │\n",
            "│ …                               ┆ …          ┆ …            │\n",
            "│ dc8f0ced-1be0-4758-9520-d4c2cc… ┆ 5          ┆ 1937         │\n",
            "│ 565004ed-c3ce-4ff1-abd1-59a5fe… ┆ 6          ┆ 2825         │\n",
            "│ c8534c68-1c68-48af-9134-2951f3… ┆ 5          ┆ 2918         │\n",
            "│ 2cb1a233-2984-40da-8ee7-00369d… ┆ 5          ┆ 2846         │\n",
            "│ ca9940c3-714e-4e31-8ff2-200675… ┆ 9          ┆ 5564         │\n",
            "└─────────────────────────────────┴────────────┴──────────────┘\n"
          ]
        }
      ],
      "source": [
        "# Q5.3: Order size vs profitability\n",
        "\n",
        "items_with_profit = (\n",
        "    items\n",
        "    .join(products, left_on=\"sku\", right_on=\"sku\")\n",
        "    .join(supplies, left_on=\"sku\", right_on=\"sku\")\n",
        "    .with_columns(\n",
        "        (pl.col(\"price\") - pl.col(\"cost\")).alias(\"profit_per_unit\")\n",
        "    )\n",
        ")\n",
        "\n",
        "order_size_profitability = (\n",
        "    items_with_profit\n",
        "    .group_by(\"order_id\")\n",
        "    .agg([\n",
        "        pl.count(\"id\").alias(\"order_size\"),\n",
        "        pl.sum(\"profit_per_unit\").alias(\"total_profit\")\n",
        "    ])\n",
        ")\n",
        "\n",
        "print(\"Order Size vs Profitability:\")\n",
        "print(order_size_profitability)\n",
        "\n"
      ]
    },
    {
      "cell_type": "code",
      "execution_count": null,
      "metadata": {
        "id": "i4ZoxxrFrR6s",
        "colab": {
          "base_uri": "https://localhost:8080/"
        },
        "outputId": "88d90ee2-9367-4efc-87ff-328390682ee1"
      },
      "outputs": [
        {
          "output_type": "stream",
          "name": "stdout",
          "text": [
            "Store Profitability:\n",
            "shape: (2, 3)\n",
            "┌─────────────────────────────────┬──────────────┬──────────────┐\n",
            "│ store_id                        ┆ total_profit ┆ name         │\n",
            "│ ---                             ┆ ---          ┆ ---          │\n",
            "│ str                             ┆ i64          ┆ str          │\n",
            "╞═════════════════════════════════╪══════════════╪══════════════╡\n",
            "│ a9128331-08d7-41a2-b615-21283e… ┆ 239888460    ┆ Philadelphia │\n",
            "│ a2a24e87-dec8-4f5d-9c9e-0e9849… ┆ 128076641    ┆ Brooklyn     │\n",
            "└─────────────────────────────────┴──────────────┴──────────────┘\n"
          ]
        }
      ],
      "source": [
        "# Q5.4: Profitability by store\n",
        "\n",
        "items_orders_stores = (\n",
        "    items_with_profit\n",
        "    .join(orders.select([\"id\", \"store_id\"]), left_on=\"order_id\", right_on=\"id\")\n",
        ")\n",
        "\n",
        "store_profitability = (\n",
        "    items_orders_stores\n",
        "    .group_by(\"store_id\")\n",
        "    .agg(pl.sum(\"profit_per_unit\").alias(\"total_profit\"))\n",
        "    .join(stores.select([\"id\", \"name\"]), left_on=\"store_id\", right_on=\"id\")\n",
        "    .sort(\"total_profit\", descending=True)\n",
        ")\n",
        "\n",
        "print(\"Store Profitability:\")\n",
        "print(store_profitability)\n",
        "\n"
      ]
    },
    {
      "cell_type": "markdown",
      "metadata": {
        "id": "Mm-_BMZCrR6s"
      },
      "source": [
        "## Question 6: Business Optimization Recommendations\n",
        "\n",
        "Based on your analysis, provide three specific, data-driven recommendations to improve business performance. Support each recommendation with relevant metrics and visualizations."
      ]
    },
    {
      "cell_type": "markdown",
      "metadata": {
        "id": "0_k09YndrR6s"
      },
      "source": [
        "### Recommendation 1:\n",
        "We recommend combining the two most expensive jaffles with one beverage at a 20% discount. By analyzing customers who purchased the two most expensive jaffles, we simulated the impact if each of those orders had also included a beverage at a 20% discount (combo pricing). With that information we can compare the combos to current revenue from these products alone.\n",
        "\n",
        "The metric is using a conservative 60% adoption of the combo by customers that order the two most expensive jaffles. As it can be shown below, there would be a clear increase, from only ordering the available products compare to give the option ot order a combo."
      ]
    },
    {
      "cell_type": "code",
      "execution_count": null,
      "metadata": {
        "id": "xVKnRr9krR6s",
        "colab": {
          "base_uri": "https://localhost:8080/",
          "height": 570
        },
        "outputId": "79e60c0c-85c4-4e5f-ba96-67c213d93df1"
      },
      "outputs": [
        {
          "output_type": "stream",
          "name": "stdout",
          "text": [
            "Top-2 jaffles: ['flame impala', 'the krautback']\n",
            "Eligible orders (top-2, no beverage): 685\n",
            "Assumed adoption: 60% -> 411 orders\n",
            "Avg beverage price: $560.00 | Discounted: $448.00\n",
            "Added revenue from combos (Top2 orders no bev 60% adopt X beverage with 20% disc): $184,128.00\n",
            "Baseline revenue (eligible orders): $1,709,728.00\n",
            "Scenario revenue (baseline + combos): $1,893,856.00 | Uplift: 10.77%\n"
          ]
        },
        {
          "output_type": "display_data",
          "data": {
            "text/plain": [
              "<Figure size 640x480 with 1 Axes>"
            ],
            "image/png": "[encoded data removed]"
          },
          "metadata": {}
        }
      ],
      "source": [
        "# Supporting analysis for Recommendation 1\n",
        "\n",
        "orders_dt = orders.with_columns(\n",
        "    pl.col(\"ordered_at\").str.to_datetime(strict=False)\n",
        ")\n",
        "stores_dt = stores.with_columns(\n",
        "    pl.col(\"opened_at\").str.to_datetime(strict=False)\n",
        ")\n",
        "\n",
        "COMBO_DISCOUNT = 0.20\n",
        "COMBO_ADOPTION_RATE = 0.60\n",
        "\n",
        "COMBO_DISCOUNT = 0.20\n",
        "COMBO_ADOPTION_RATE = 0.60\n",
        "\n",
        "# Top-2 most expensive jaffles\n",
        "top2 = (\n",
        "    products.filter(pl.col(\"type\") == \"jaffle\")\n",
        "    .sort(\"price\", descending=True)\n",
        "    .select([\"sku\", \"name\", \"price\"])\n",
        "    .head(2)\n",
        ")\n",
        "top2_skus = top2[\"sku\"].to_list()\n",
        "\n",
        "# Average beverage price (for combo pricing)\n",
        "avg_bev_price = (\n",
        "    products.filter(pl.col(\"type\") == \"beverage\")\n",
        "    .select(pl.col(\"price\").mean().alias(\"avg_bev_price\"))\n",
        ")[0, 0]\n",
        "discounted_bev_price = avg_bev_price * (1 - COMBO_DISCOUNT)\n",
        "\n",
        "# Orders containing any of the top-2 jaffles\n",
        "orders_with_top2 = (\n",
        "    items.filter(pl.col(\"sku\").is_in(top2_skus))\n",
        "    .select(\"order_id\").unique()\n",
        "    .with_columns(pl.lit(True).alias(\"has_top2\"))\n",
        ")\n",
        "\n",
        "# Orders containing any beverage\n",
        "orders_with_bev = (\n",
        "    items.join(\n",
        "        products.filter(pl.col(\"type\")==\"beverage\").select(\"sku\"),\n",
        "        on=\"sku\", how=\"inner\"\n",
        "    )\n",
        "    .select(\"order_id\").unique()\n",
        "    .with_columns(pl.lit(True).alias(\"has_bev\"))\n",
        ")\n",
        "\n",
        "# Eligible = orders with top-2 jaffle and NO beverage\n",
        "eligible_orders = (\n",
        "    orders.rename({\"id\":\"order_id\"})\n",
        "    .select([\"order_id\", \"order_total\"])\n",
        "    .join(orders_with_top2, on=\"order_id\", how=\"left\")\n",
        "    .join(orders_with_bev,  on=\"order_id\", how=\"left\")\n",
        "    .with_columns([\n",
        "        pl.col(\"has_top2\").fill_null(False),\n",
        "        pl.col(\"has_bev\").fill_null(False),\n",
        "    ])\n",
        "    .filter((pl.col(\"has_top2\") == True) & (pl.col(\"has_bev\") == False))\n",
        ")\n",
        "\n",
        "eligible_count   = eligible_orders.height\n",
        "baseline_revenue = eligible_orders.select(pl.col(\"order_total\").sum().alias(\"baseline\"))[0, 0]\n",
        "\n",
        "adopters         = int(round(eligible_count * COMBO_ADOPTION_RATE))\n",
        "added_revenue    = adopters * discounted_bev_price\n",
        "scenario_revenue = baseline_revenue + added_revenue\n",
        "uplift_pct       = (added_revenue / baseline_revenue * 100.0) if baseline_revenue else 0.0\n",
        "\n",
        "\n",
        "print(f\"Top-2 jaffles: {top2.select('name').to_series().to_list()}\")\n",
        "print(f\"Eligible orders (top-2, no beverage): {eligible_count}\")\n",
        "print(f\"Assumed adoption: {COMBO_ADOPTION_RATE:.0%} -> {adopters} orders\")\n",
        "print(f\"Avg beverage price: ${avg_bev_price:.2f} | Discounted: ${discounted_bev_price:.2f}\")\n",
        "print(f\"Added revenue from combos (Top2 orders no bev 60% adopt X beverage with 20% disc): ${added_revenue:,.2f}\")\n",
        "print(f\"Baseline revenue (eligible orders): ${baseline_revenue:,.2f}\")\n",
        "print(f\"Scenario revenue (baseline + combos): ${scenario_revenue:,.2f} | Uplift: {uplift_pct:.2f}%\")\n",
        "\n",
        "# Bar Chart showing Combo Impact\n",
        "plt.figure()\n",
        "plt.bar([\"Baseline (segment)\", \"Scenario (segment)\"], [baseline_revenue, scenario_revenue])\n",
        "plt.title(\"Premium Combo Impact (60% adoption)\")\n",
        "plt.ylabel(\"Revenue ($)\")\n",
        "plt.grid(True, axis=\"y\")\n",
        "plt.show()"
      ]
    },
    {
      "cell_type": "markdown",
      "metadata": {
        "id": "zgVAXuQ1rR6t"
      },
      "source": [
        "### Recommendation 2:\n",
        "Current sales show that the second most profitable jaffle consistently generates strong margins. If a new jaffle achieved the same share of sales as this product, overall revenues would increase proportionally, while also strengthening the perception of innovation and variety. This scenario highlights the potential upside of expanding the menu by offering the customer more options on the products with a stronger profit margin.\n",
        "\n",
        "Note: We have use the second best product, since marketing theory shows that customer tends to focus mostly on the products in the middle price."
      ]
    },
    {
      "cell_type": "code",
      "execution_count": null,
      "metadata": {
        "id": "RkF1qmEUrR6t",
        "colab": {
          "base_uri": "https://localhost:8080/",
          "height": 679
        },
        "outputId": "768694c2-4727-47c0-a462-5f80acccb813"
      },
      "outputs": [
        {
          "output_type": "stream",
          "name": "stdout",
          "text": [
            "New product scenario (same share as 2nd-best margin):\n",
            "shape: (1, 5)\n",
            "┌───────────────────────┬───────────────────┬────────────┬─────────────────────┬───────────────────┐\n",
            "│ second_best_jaffle    ┆ unit_gross_margin ┆ units_sold ┆ incremental_revenue ┆ incremental_gross │\n",
            "│ ---                   ┆ ---               ┆ ---        ┆ ---                 ┆ ---               │\n",
            "│ str                   ┆ i64               ┆ u32        ┆ i64                 ┆ i64               │\n",
            "╞═══════════════════════╪═══════════════════╪════════════╪═════════════════════╪═══════════════════╡\n",
            "│ nutellaphone who dis? ┆ 979               ┆ 3810       ┆ 4191000             ┆ 3729990           │\n",
            "└───────────────────────┴───────────────────┴────────────┴─────────────────────┴───────────────────┘\n",
            "Current total jaffle revenue: $22,880,900.00\n",
            "New Product revenue (simulated): $4,191,000.00\n",
            "Total revenue with New Product: $27,071,900.00  |  Increase: 18.32%\n"
          ]
        },
        {
          "output_type": "display_data",
          "data": {
            "text/plain": [
              "<Figure size 640x480 with 1 Axes>"
            ],
            "image/png": "[encoded data removed]"
          },
          "metadata": {}
        }
      ],
      "source": [
        "# Supporting analysis for Recommendation 2\n",
        "\n",
        "# Q6.2: New high-margin product (same share as 2nd-best unit margin)\n",
        "\n",
        "supplies_per_sku = (\n",
        "    supplies\n",
        "    .group_by(\"sku\")\n",
        "    .agg(pl.sum(\"cost\").alias(\"supply_cost_per_sku\"))\n",
        ")\n",
        "\n",
        "products_margin = (\n",
        "    products\n",
        "    .join(supplies_per_sku, on=\"sku\", how=\"left\")\n",
        "    .with_columns([\n",
        "        pl.col(\"supply_cost_per_sku\").fill_null(0),\n",
        "        (pl.col(\"price\") - pl.col(\"supply_cost_per_sku\")).alias(\"unit_gross_margin\")\n",
        "    ])\n",
        ")\n",
        "\n",
        "sales_per_sku = (\n",
        "    items\n",
        "    .group_by(\"sku\")\n",
        "    .agg(pl.len().alias(\"units_sold\"))\n",
        "    .join(products.select([\"sku\",\"name\",\"type\",\"price\"]), on=\"sku\", how=\"left\")\n",
        "    .with_columns((pl.col(\"units_sold\")*pl.col(\"price\")).alias(\"revenue\"))\n",
        ")\n",
        "\n",
        "jaffles_by_margin = (\n",
        "    sales_per_sku\n",
        "    .filter(pl.col(\"type\")==\"jaffle\")\n",
        "    .join(products_margin.select([\"sku\",\"unit_gross_margin\"]), on=\"sku\", how=\"left\")\n",
        "    .sort(\"unit_gross_margin\", descending=True)\n",
        ")\n",
        "\n",
        "second = jaffles_by_margin.select([\"name\",\"units_sold\",\"revenue\",\"unit_gross_margin\"]).slice(1, 1)\n",
        "\n",
        "scenario = second.select([\n",
        "    pl.col(\"name\").alias(\"second_best_jaffle\"),\n",
        "    pl.col(\"unit_gross_margin\"),\n",
        "    pl.col(\"units_sold\"),\n",
        "    pl.col(\"revenue\").alias(\"incremental_revenue\"),\n",
        "    (pl.col(\"units_sold\") * pl.col(\"unit_gross_margin\")).alias(\"incremental_gross\")\n",
        "])\n",
        "\n",
        "print(\"New product scenario (same share as 2nd-best margin):\")\n",
        "print(scenario)\n",
        "\n",
        "#New Product Compare to Current Situation (simulated)\n",
        "current_rev = jaffles_by_margin.select(pl.col(\"revenue\").sum().alias(\"r\"))[0, 0]\n",
        "second_rev  = second.select(\"revenue\")[0, 0]  # New Product revenue (simulated)\n",
        "with_new_rev = current_rev + second_rev\n",
        "inc_rev_pct  = (second_rev / current_rev * 100.0) if current_rev else 0.0\n",
        "\n",
        "print(f\"Current total jaffle revenue: ${current_rev:,.2f}\")\n",
        "print(f\"New Product revenue (simulated): ${second_rev:,.2f}\")\n",
        "print(f\"Total revenue with New Product: ${with_new_rev:,.2f}  |  Increase: {inc_rev_pct:.2f}%\")\n",
        "\n",
        "#Revenue Chart (in Millions)\n",
        "plt.figure()\n",
        "plt.bar([\"Current Revenue\", \"With New Product\"], [current_rev, with_new_rev])\n",
        "plt.title(\"Revenue: Impact of New Product\")\n",
        "plt.ylabel(\"Revenue ($)\")\n",
        "plt.grid(True, axis=\"y\")\n",
        "plt.show()"
      ]
    },
    {
      "cell_type": "markdown",
      "metadata": {
        "id": "PMPPDxhPrR6t"
      },
      "source": [
        "### Recommendation 3:\n",
        "Using revenue per day as a benchmark, Brooklyn already outperforms Philadelphia despite being newer and facing a lower tax rate. If Brooklyn had operated the same number of days as Philadelphia, its annual revenues would surpass it. This demonstrates that Brooklyn is the highest-performing location and should be the priority for marketing investment and that with the same investment, time and opportunity, Brooklyn could fight for the first store position with Philadelphia."
      ]
    },
    {
      "cell_type": "code",
      "execution_count": null,
      "metadata": {
        "id": "OO8z0_6UrR6t",
        "colab": {
          "base_uri": "https://localhost:8080/"
        },
        "outputId": "841fcc76-17ca-425e-9f7c-7128e7ae5ff6"
      },
      "outputs": [
        {
          "output_type": "stream",
          "name": "stdout",
          "text": [
            "Revenue per Day since Opening by Store:\n",
            "shape: (2, 5)\n",
            "┌────────────────────────────────┬───────────────┬────────────────┬─────────────────┬──────────────┐\n",
            "│ store_id                       ┆ total_revenue ┆ operating_days ┆ revenue_per_day ┆ name         │\n",
            "│ ---                            ┆ ---           ┆ ---            ┆ ---             ┆ ---          │\n",
            "│ str                            ┆ i64           ┆ i64            ┆ f64             ┆ str          │\n",
            "╞════════════════════════════════╪═══════════════╪════════════════╪═════════════════╪══════════════╡\n",
            "│ a9128331-08d7-41a2-b615-21283e ┆ 43215565      ┆ 365            ┆ 118398.808219   ┆ Philadelphia │\n",
            "│ …                              ┆               ┆                ┆                 ┆              │\n",
            "│ a2a24e87-dec8-4f5d-9c9e-0e9849 ┆ 22822628      ┆ 173            ┆ 131922.705202   ┆ Brooklyn     │\n",
            "│ …                              ┆               ┆                ┆                 ┆              │\n",
            "└────────────────────────────────┴───────────────┴────────────────┴─────────────────┴──────────────┘\n",
            "Q6.3 | Philadelphia actual: $43,215,565.00 | Brooklyn (same days): $48,151,787.40 | Δ: $4,936,222.40 (11.42%)\n"
          ]
        }
      ],
      "source": [
        "# Supporting analysis for Recommendation 3\n",
        "# Your code here\n",
        "\n",
        "#Former information from Q3 about amount days opened\n",
        "\n",
        "orders_datetime = orders.with_columns(\n",
        "    pl.col(\"ordered_at\").str.strptime(pl.Datetime, \"%Y-%m-%dT%H:%M:%S\").alias(\"ordered_at_datetime\")\n",
        ")\n",
        "\n",
        "stores_datetime = stores.with_columns(\n",
        "    pl.col(\"opened_at\").str.strptime(pl.Datetime, \"%Y-%m-%dT%H:%M:%S\").alias(\"opened_at_datetime\")\n",
        ")\n",
        "\n",
        "orders_stores = orders_datetime.join(stores_datetime, left_on=\"store_id\", right_on=\"id\")\n",
        "\n",
        "store_operating_days = (\n",
        "    orders_stores\n",
        "    .group_by(\"store_id\")\n",
        "    .agg([\n",
        "        pl.col(\"ordered_at_datetime\").max().alias(\"last_order_date\"),\n",
        "        pl.first(\"opened_at_datetime\").alias(\"opened_at_datetime\")\n",
        "    ])\n",
        "    .with_columns(\n",
        "        ((pl.col(\"last_order_date\") - pl.col(\"opened_at_datetime\")).dt.total_days() + 1).alias(\"operating_days\")\n",
        "    )\n",
        ")\n",
        "\n",
        "revenue_by_store_total = (\n",
        "    orders\n",
        "    .group_by(\"store_id\")\n",
        "    .agg(pl.sum(\"order_total\").alias(\"total_revenue\"))\n",
        ")\n",
        "\n",
        "revenue_per_day_by_store = (\n",
        "    revenue_by_store_total\n",
        "    .join(store_operating_days.select([\"store_id\", \"operating_days\"]), on=\"store_id\")\n",
        "    .with_columns(\n",
        "        (pl.col(\"total_revenue\") / pl.col(\"operating_days\")).alias(\"revenue_per_day\")\n",
        "    )\n",
        "    .sort(\"revenue_per_day\", descending=True)\n",
        "    .join(stores.select([\"id\", \"name\"]), left_on=\"store_id\", right_on=\"id\")\n",
        ")\n",
        "\n",
        "print(\"Revenue per Day since Opening by Store:\")\n",
        "print(revenue_per_day_by_store)\n",
        "\n",
        "#3RD Recommendation with Brooklyn with the same days opened as phyladelphia\n",
        "\n",
        "philly_days = revenue_per_day_by_store.filter(pl.col(\"name\")==\"Philadelphia\").select(\"operating_days\")[0, 0]\n",
        "philly_rev  = revenue_per_day_by_store.filter(pl.col(\"name\")==\"Philadelphia\").select(\"total_revenue\")[0, 0]\n",
        "bk_rpd      = revenue_per_day_by_store.filter(pl.col(\"name\")==\"Brooklyn\").select(\"revenue_per_day\")[0, 0]\n",
        "\n",
        "bk_as_philly = bk_rpd * philly_days\n",
        "diff = bk_as_philly - philly_rev\n",
        "pct  = (diff / philly_rev * 100.0) if philly_rev else 0.0\n",
        "\n",
        "print(f\"Q6.3 | Philadelphia actual: ${philly_rev:,.2f} | Brooklyn (same days): ${bk_as_philly:,.2f} | Δ: ${diff:,.2f} ({pct:.2f}%)\")"
      ]
    },
    {
      "cell_type": "markdown",
      "metadata": {
        "id": "jWB0Ln4HrR6t"
      },
      "source": [
        "## Executive Summary\n",
        "\n",
        "Jaffle Shop, a rapidly expanding gourmet toasted sandwich chain, has established a strong financial foundation with 66 million dollars in total revenues across its two operating locations: Philadelphia and Brooklyn. The business demonstrates a consistent upward trajectory in sales performance, with August 2017 delivering record revenues of $9.3 million, making it the company’s best-performing month to date. Despite a small seasonal dip in February 2017, overall revenue trends remain positive and resilient.\n",
        "\n",
        "The business benefits from exceptional customer retention, with 920 out of 930 customers identified as repeat buyers (99%), underscoring strong brand loyalty. Beverages drive the bulk of revenue, accounting for 64% of sales (39.8M dollars) compared to 36% from Jaffles (22.9M dollars), and remain a critical growth engine for the business. At the same time, Jaffle Shop’s product portfolio generates extraordinary profitability, with multiple products exceeding 97% gross margin, which is substantially above industry benchmarks.\n",
        "\n",
        "Store performance varies by market dynamics. Philadelphia, with a 6% local tax rate, leads in total revenue (43.2M dollars) due to its longer operation period (365 days). However, Brooklyn, open for just 173 days, shows superior single-day revenue performance (131,923 dollars) compared to Philadelphia’s peak (118,399 dollars). This suggests Brooklyn is an underleveraged growth opportunity with the potential to outpace Philadelphia if strategically developed.\n",
        "\n",
        "Overall, Jaffle Shop is in a strong financial position with significant opportunities for optimization. By capitalizing on high-margin products, scaling growth in Brooklyn, and enhancing beverage strategy, the company can drive accelerated revenue growth and profitability in the next phase of expansion.\n",
        "\n",
        "### Key Findings:\n",
        "1) Brooklyn shows stronger per-day revenue performance-\n",
        "While Philadelphia has generated more total revenue (43.2M dollars) due to longer operations, Brooklyn delivers higher daily revenue peaks despite only 173 days of operation.\n",
        "Brooklyn’s single-day high (131,923 dollars) surpasses Philadelphia’s (118,399 dollars), demonstrating market demand density. This highlights Brooklyn as a scalable and high-growth market relative to its maturity.\n",
        "\n",
        "\n",
        "2) Customer loyalty is exceptionally strong.\n",
        "Out of 930 customers, 920 are repeat customers (99%), indicating high satisfaction and trust.\n",
        "This provides a solid foundation for introducing premium offerings, bundles, or loyalty-based upsell strategies without significant risk of churn.\n",
        "\n",
        "3) Revenue patterns show clear growth opportunities.\n",
        "Wednesdays consistently outperform other weekdays in revenue contribution, suggesting opportunities for targeted mid-week promotions.\n",
        "Monthly revenue data indicates resilience to seasonal fluctuations, with February’s slight dip quickly corrected in subsequent months.\n",
        "\n",
        "### Strategic Recommendations:\n",
        "1. Turn High-Margin Products into Signature Brand Icons\n",
        "\n",
        "Jaffle Shop’s top-performing products — such as Nutellaphone Who Dis? (98.42% margin) and Mel-bun (97.51% margin) — deliver extraordinary profitability, far exceeding typical food industry margins. These products are not just revenue drivers; they can be leveraged as brand-defining menu items.\n",
        "\n",
        "Signature Branding: Position these items as the “must-try” products, reinforcing them in advertising, social media campaigns, and in-store displays. This elevates them beyond food items into brand experiences, driving word-of-mouth and customer loyalty.\n",
        "\n",
        "Premium Variants: Introduce seasonal or limited-edition versions (e.g., holiday flavors, collaborations with local artisans) to create urgency and exclusivity, while protecting high margins.\n",
        "\n",
        "Bundling Strategy: Pair these Jaffles with beverages (which already contribute 64% of revenue) to increase average order value. Bundles could be themed — such as “Morning Boost” or “Afternoon Indulgence” — making the purchase decision easier for customers while boosting profits.\n",
        "\n",
        "By elevating these items as flagship menu icons, Jaffle Shop can amplify profitability while strengthening its brand identity in a competitive fast-casual market.\n",
        "\n",
        "2. Accelerate Brooklyn’s Growth into a Flagship Market\n",
        "\n",
        "Brooklyn demonstrates stronger market potential than Philadelphia despite being newer. With only 173 days of operation, it has already posted a higher single-day revenue (131,923 dollars) than Philadelphia’s ($118,399). This signals untapped demand density and makes Brooklyn the ideal market to scale aggressively.\n",
        "\n",
        "Second Store Expansion: Open a second Brooklyn outlet to capture excess demand. This will also test the replicability of Brooklyn’s performance, helping guide broader expansion strategy.\n",
        "\n",
        "Neighborhood Penetration: Develop hyper-local marketing (e.g., sponsoring community events, pop-ups in nearby districts) to cement Jaffle Shop as a neighborhood staple.\n",
        "\n",
        "Operational Innovation: Pilot extended hours, delivery-only “ghost kitchens,” or digital-first ordering models in Brooklyn to test concepts before rolling them out company-wide.\n",
        "\n",
        "By positioning Brooklyn as a growth laboratory, Jaffle Shop can scale faster, learn in a high-performing environment, and apply best practices to future locations.\n",
        "\n",
        "3. Elevate Beverages into a Lifestyle Category\n",
        "\n",
        "Beverages already account for 64% of total revenue (39.8M dollars) and offer the greatest volume opportunity due to their lower price point ($560 average). With nearly universal repeat-purchase behavior (99% repeat customers), beverages represent an untapped lever for both premiumization and habit formation.\n",
        "\n",
        "Premium Tiers: Introduce specialty beverages — such as artisan coffees, functional health drinks, or limited-edition seasonal offerings — that command higher price points while appealing to consumer trends.\n",
        "\n",
        "Cross-Sell Campaigns: Use beverages as the entry point for upselling. For example, customers who come in for a coffee could be nudged toward adding a Jaffle at a bundled discount, increasing average order value.\n",
        "\n",
        "By evolving beverages into a lifestyle purchase, Jaffle Shop can move beyond being a sandwich shop into customers’ daily routine provider, creating stickiness and unlocking long-term revenue growth."
      ]
    }
  ],
  "metadata": {
    "kernelspec": {
      "display_name": "opan5510-finalproject",
      "language": "python",
      "name": "python3"
    },
    "language_info": {
      "codemirror_mode": {
        "name": "ipython",
        "version": 3
      },
      "file_extension": ".py",
      "mimetype": "text/x-python",
      "name": "python",
      "nbconvert_exporter": "python",
      "pygments_lexer": "ipython3",
      "version": "3.12.10"
    },
    "colab": {
      "provenance": []
    }
  },
  "nbformat": 4,
  "nbformat_minor": 0
}